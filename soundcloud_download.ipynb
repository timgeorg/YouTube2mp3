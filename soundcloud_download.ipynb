{
 "cells": [
  {
   "cell_type": "markdown",
   "metadata": {},
   "source": [
    "https://api-v2.soundcloud.com/me?client_id=LtCnMR7qgBserd1YKhzQudG0DZR33gja"
   ]
  },
  {
   "cell_type": "code",
   "execution_count": 4,
   "metadata": {
    "vscode": {
     "languageId": "powershell"
    }
   },
   "outputs": [
    {
     "ename": "SyntaxError",
     "evalue": "invalid syntax (4040431545.py, line 1)",
     "output_type": "error",
     "traceback": [
      "\u001b[1;36m  Cell \u001b[1;32mIn[4], line 1\u001b[1;36m\u001b[0m\n\u001b[1;33m    scdl --client-id LtCnMR7qgBserd1YKhzQudG0DZR33gja -l https://soundcloud.com/sosamusicuk/sosa-blow-white-girl-in-town-unreleased\u001b[0m\n\u001b[1;37m                     ^\u001b[0m\n\u001b[1;31mSyntaxError\u001b[0m\u001b[1;31m:\u001b[0m invalid syntax\n"
     ]
    }
   ],
   "source": [
    "scdl --client-id LtCnMR7qgBserd1YKhzQudG0DZR33gja -l https://soundcloud.com/sosamusicuk/sosa-blow-white-girl-in-town-unreleased"
   ]
  },
  {
   "cell_type": "markdown",
   "metadata": {},
   "source": [
    "LtCnMR7qgBserd1YKhzQudG0DZR33gja"
   ]
  },
  {
   "cell_type": "markdown",
   "metadata": {},
   "source": [
    "yt-dlp https://soundcloud.com/vicpensa/music-sounds-better-with-temperature-stardust-vs-sean-paul-vicpensa-edit --add-header \"Authorization: OAuth 2-297074-279531746-sosCi60qCu2QqH\""
   ]
  }
 ],
 "metadata": {
  "kernelspec": {
   "display_name": "venv",
   "language": "python",
   "name": "python3"
  },
  "language_info": {
   "codemirror_mode": {
    "name": "ipython",
    "version": 3
   },
   "file_extension": ".py",
   "mimetype": "text/x-python",
   "name": "python",
   "nbconvert_exporter": "python",
   "pygments_lexer": "ipython3",
   "version": "3.10.6"
  }
 },
 "nbformat": 4,
 "nbformat_minor": 2
}
